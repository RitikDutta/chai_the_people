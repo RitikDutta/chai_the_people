{
 "cells": [
  {
   "cell_type": "code",
   "execution_count": 2,
   "id": "e867dcfa",
   "metadata": {},
   "outputs": [
    {
     "name": "stdout",
     "output_type": "stream",
     "text": [
      "Defaulting to user installation because normal site-packages is not writeable\n",
      "Collecting numpy\n",
      "  Downloading numpy-1.24.3-cp310-cp310-manylinux_2_17_x86_64.manylinux2014_x86_64.whl (17.3 MB)\n",
      "\u001b[2K     \u001b[38;2;114;156;31m━━━━━━━━━━━━━━━━━━━━━━━━━━━━━━━━━━━━━━━━\u001b[0m \u001b[32m17.3/17.3 MB\u001b[0m \u001b[31m9.9 MB/s\u001b[0m eta \u001b[36m0:00:00\u001b[0m0m eta \u001b[36m0:00:01\u001b[0m0:01\u001b[0m:01\u001b[0m\n",
      "\u001b[?25hInstalling collected packages: numpy\n",
      "Successfully installed numpy-1.24.3\n",
      "Note: you may need to restart the kernel to use updated packages.\n"
     ]
    }
   ],
   "source": [
    "pip install numpy"
   ]
  },
  {
   "cell_type": "code",
   "execution_count": 3,
   "id": "7ff67ceb",
   "metadata": {},
   "outputs": [],
   "source": [
    "import datetime\n",
    "from cassandra.cluster import Cluster\n",
    "from cassandra.auth import PlainTextAuthProvider\n",
    "import pandas as pd\n",
    "from tabulate import tabulate\n",
    "import os\n",
    "import time\n",
    "import importlib\n"
   ]
  },
  {
   "cell_type": "code",
   "execution_count": 5,
   "id": "e4256758",
   "metadata": {},
   "outputs": [],
   "source": [
    "keyspace = \"test_key\"\n",
    "cloud_config= {'secure_connect_bundle': 'secure-connect-test.zip'}\n",
    "auth_provider = PlainTextAuthProvider('biTEHxuyRqFgCcFpnEMOMvkN', 'PyqybfDQpPOaLp44hlWbb1Yb7bZ2Mn5Mt-_DGMOs.qBj.JY.Z,FAnB.9ncCD+F2EsSJ7W6XD,l,3S9gZW7bgWSMQDHKvTI7Iams2.hRRz6W_biRSrttvGgs1WhAl-in9')\n",
    "cluster = Cluster(cloud=cloud_config, auth_provider=auth_provider)\n",
    "session = cluster.connect(keyspace)\n"
   ]
  },
  {
   "cell_type": "code",
   "execution_count": 71,
   "id": "e3fac265",
   "metadata": {},
   "outputs": [],
   "source": [
    "def create_daily_activity_table():\n",
    "        create_table_query = \"\"\"\n",
    "        CREATE TABLE IF NOT EXISTS survey (\n",
    "            q_no int,\n",
    "            date_added date,\n",
    "            question text,\n",
    "            options text,\n",
    "            PRIMARY KEY (q_no)\n",
    "        );\n",
    "        \"\"\"\n",
    "        session.execute(create_table_query)\n",
    "create_daily_activity_table()"
   ]
  },
  {
   "cell_type": "code",
   "execution_count": 72,
   "id": "f4a71861",
   "metadata": {},
   "outputs": [],
   "source": [
    "def get_db(table):\n",
    "        query = \"SELECT * FROM {}.{}\".format(keyspace, table)\n",
    "        data = session.execute(query)\n",
    "        df = pd.DataFrame([d for d in data])\n",
    "        return df"
   ]
  },
  {
   "cell_type": "code",
   "execution_count": 73,
   "id": "22b51b47",
   "metadata": {},
   "outputs": [],
   "source": [
    "def show(table_name):\n",
    "        query = \"SELECT * FROM test_key.{};\".format(table_name)\n",
    "        df = pd.DataFrame(list(session.execute(query)))\n",
    "        print(tabulate(df, headers='keys', tablefmt='fancy_grid'))"
   ]
  },
  {
   "cell_type": "code",
   "execution_count": 91,
   "id": "020ee5e6",
   "metadata": {},
   "outputs": [],
   "source": [
    "def insert_data():\n",
    "    insert_query = \"\"\"\n",
    "    INSERT INTO survey (\n",
    "        q_no,\n",
    "        date_added,\n",
    "        question,\n",
    "        options\n",
    "    ) VALUES ({}, '{}', '{}', '{}')\"\"\".format(1, datetime.datetime.now().date(), \"what is your favourite color\", \"red, blue, gree, grey\")\n",
    "    session.execute(insert_query)\n",
    "    show(\"survey\")"
   ]
  },
  {
   "cell_type": "code",
   "execution_count": 92,
   "id": "74ffafdf",
   "metadata": {},
   "outputs": [
    {
     "name": "stdout",
     "output_type": "stream",
     "text": [
      "╒════╤════════╤══════════════╤═══════════════════════╤══════════════════════════════╕\n",
      "│    │   q_no │ date_added   │ options               │ question                     │\n",
      "╞════╪════════╪══════════════╪═══════════════════════╪══════════════════════════════╡\n",
      "│  0 │      1 │ 2023-03-18   │ red, blue, gree, grey │ what is your favourite color │\n",
      "╘════╧════════╧══════════════╧═══════════════════════╧══════════════════════════════╛\n"
     ]
    }
   ],
   "source": [
    "insert_data()"
   ]
  },
  {
   "cell_type": "code",
   "execution_count": 59,
   "id": "c0c18ce8",
   "metadata": {},
   "outputs": [
    {
     "name": "stdout",
     "output_type": "stream",
     "text": [
      "Error deleting table:  name 'session' is not defined\n"
     ]
    }
   ],
   "source": [
    "def delete_table(table_name):\n",
    "        delete_table_query = \"DROP TABLE \" + table_name + \";\"\n",
    "        try:\n",
    "            session.execute(delete_table_query)\n",
    "            print(\"Table \" + table_name + \" deleted successfully\")\n",
    "        except Exception as e:\n",
    "            print(\"Error deleting table: \", e)\n",
    "            \n",
    "delete_table(\"user\")"
   ]
  },
  {
   "cell_type": "code",
   "execution_count": 416,
   "id": "b512a594",
   "metadata": {},
   "outputs": [
    {
     "name": "stdout",
     "output_type": "stream",
     "text": [
      "Error deleting table:  errors={'827f8a5c-c113-4d00-96e3-19591f848b34-asia-south1.db.astra.datastax.com:29042:1e2e8f64-62e8-4a6e-b468-77267e24d06f': 'Client request timeout. See Session.execute[_async](timeout)'}, last_host=827f8a5c-c113-4d00-96e3-19591f848b34-asia-south1.db.astra.datastax.com:29042:1e2e8f64-62e8-4a6e-b468-77267e24d06f\n"
     ]
    }
   ],
   "source": [
    "crud.delete_table(\"response\")"
   ]
  },
  {
   "cell_type": "code",
   "execution_count": 351,
   "id": "ddfceb78",
   "metadata": {},
   "outputs": [
    {
     "name": "stdout",
     "output_type": "stream",
     "text": [
      "╒════╤═══════════════╤══════════════╤═══════════════════════╤══════════════════════════════╕\n",
      "│    │   question_id │ date_added   │ options               │ question                     │\n",
      "╞════╪═══════════════╪══════════════╪═══════════════════════╪══════════════════════════════╡\n",
      "│  0 │             1 │ 2023-03-20   │ bus, car, bike, other │ what your mode of transpoart │\n",
      "├────┼───────────────┼──────────────┼───────────────────────┼──────────────────────────────┤\n",
      "│  1 │             2 │ 2023-03-20   │ car,bus, train, other │ mode of transpoart           │\n",
      "├────┼───────────────┼──────────────┼───────────────────────┼──────────────────────────────┤\n",
      "│  2 │             3 │ 2023-03-20   │ red,blue green,red    │ fav color                    │\n",
      "╘════╧═══════════════╧══════════════╧═══════════════════════╧══════════════════════════════╛\n"
     ]
    }
   ],
   "source": [
    "crud.show(\"survey\")"
   ]
  },
  {
   "cell_type": "code",
   "execution_count": 15,
   "id": "cd6366d5",
   "metadata": {},
   "outputs": [
    {
     "name": "stdout",
     "output_type": "stream",
     "text": [
      "╒════╤═══════════════╤══════════════╤═════════════════════════════════════════════════════════════════════════════════════════════════════════════════════════════════════════════════════════════════════════════════════════════════════════════════════════╤════════════════════════════════════════════════════════════════════════════════════════════════════════════════════════╕\n",
      "│    │   question_id │ date_added   │ options                                                                                                                                                                                                                 │ question                                                                                                               │\n",
      "╞════╪═══════════════╪══════════════╪═════════════════════════════════════════════════════════════════════════════════════════════════════════════════════════════════════════════════════════════════════════════════════════════════════════════════════════╪════════════════════════════════════════════════════════════════════════════════════════════════════════════════════════╡\n",
      "│  0 │             5 │ 2023-03-20   │ they are doing great, they need to work more on that                                                                                                                                                                    │ Do you feel that the government is doing enough to address climate change?                                             │\n",
      "├────┼───────────────┼──────────────┼─────────────────────────────────────────────────────────────────────────────────────────────────────────────────────────────────────────────────────────────────────────────────────────────────────────────────────────┼────────────────────────────────────────────────────────────────────────────────────────────────────────────────────────┤\n",
      "│  1 │             1 │ 2023-03-20   │ Work on climate change and natural diseaster, work on Unemployement, Work On Poverty                                                                                                                                    │ which is more important                                                                                                │\n",
      "├────┼───────────────┼──────────────┼─────────────────────────────────────────────────────────────────────────────────────────────────────────────────────────────────────────────────────────────────────────────────────────────────────────────────────────┼────────────────────────────────────────────────────────────────────────────────────────────────────────────────────────┤\n",
      "│  2 │             8 │ 2023-03-22   │ bjp,congress,aap                                                                                                                                                                                                        │ which govt u supporting                                                                                                │\n",
      "├────┼───────────────┼──────────────┼─────────────────────────────────────────────────────────────────────────────────────────────────────────────────────────────────────────────────────────────────────────────────────────────────────────────────────────┼────────────────────────────────────────────────────────────────────────────────────────────────────────────────────────┤\n",
      "│  3 │             2 │ 2023-03-20   │ Pradhan Mantri Jan Dhan Yojana (PMJDY),From Jan Dhan to Jan Suraksha,Pradhan Mantri Jeevan Jyoti Bima Yojana (PMJJBY),Pradhan Mantri Suraksha Bima Yojana (PMSBY),Atal Pension Yojana (APY),Pradhan Mantri Mudra Yojana │ Which scheme you like to support most?                                                                                 │\n",
      "├────┼───────────────┼──────────────┼─────────────────────────────────────────────────────────────────────────────────────────────────────────────────────────────────────────────────────────────────────────────────────────────────────────────────────────┼────────────────────────────────────────────────────────────────────────────────────────────────────────────────────────┤\n",
      "│  4 │             4 │ 2023-03-20   │ very well government is doing good, normal, not good government needs to improve                                                                                                                                        │ How satisfied are you with the quality of public transportation in your city?                                          │\n",
      "├────┼───────────────┼──────────────┼─────────────────────────────────────────────────────────────────────────────────────────────────────────────────────────────────────────────────────────────────────────────────────────────────────────────────────────┼────────────────────────────────────────────────────────────────────────────────────────────────────────────────────────┤\n",
      "│  5 │             7 │ 2023-03-22   │ bjp,congress,aap                                                                                                                                                                                                        │ which govt u supporting                                                                                                │\n",
      "├────┼───────────────┼──────────────┼─────────────────────────────────────────────────────────────────────────────────────────────────────────────────────────────────────────────────────────────────────────────────────────────────────────────────────────┼────────────────────────────────────────────────────────────────────────────────────────────────────────────────────────┤\n",
      "│  6 │             6 │ 2023-03-20   │ yes government needs to invest more on roads and infrastructures, no need to invest on roads and infrastructures government should use the money in other things, i cannot decide                                       │ How important is it to you that the government invest in infrastructure, such as roads, bridges, and public buildings? │\n",
      "├────┼───────────────┼──────────────┼─────────────────────────────────────────────────────────────────────────────────────────────────────────────────────────────────────────────────────────────────────────────────────────────────────────────────────────┼────────────────────────────────────────────────────────────────────────────────────────────────────────────────────────┤\n",
      "│  7 │             3 │ 2023-03-20   │ Yes frequently, Yes occasionally, Used it in the past but not anymore, No I prefer cash transactions,No I am not comfortable with digital payments                                                                      │ Have you ever used a digital payment platform?                                                                         │\n",
      "╘════╧═══════════════╧══════════════╧═════════════════════════════════════════════════════════════════════════════════════════════════════════════════════════════════════════════════════════════════════════════════════════════════════════════════════════╧════════════════════════════════════════════════════════════════════════════════════════════════════════════════════════╛\n"
     ]
    }
   ],
   "source": [
    "crud.show(\"survey\")"
   ]
  },
  {
   "cell_type": "code",
   "execution_count": 4,
   "id": "bdc89a5d",
   "metadata": {},
   "outputs": [
    {
     "data": {
      "text/plain": [
       "<module 'database_operations' from '/home/codered/mystuff/hackthon/main_project/database_operations.py'>"
      ]
     },
     "execution_count": 4,
     "metadata": {},
     "output_type": "execute_result"
    }
   ],
   "source": [
    "from importlib import reload\n",
    "import database_operations\n",
    "reload(database_operations)"
   ]
  },
  {
   "cell_type": "code",
   "execution_count": 5,
   "id": "c41c443e",
   "metadata": {},
   "outputs": [],
   "source": [
    "crud = database_operations.CassandraCRUD(\"test_key\")"
   ]
  },
  {
   "cell_type": "code",
   "execution_count": 18,
   "id": "a12ecbfd",
   "metadata": {},
   "outputs": [],
   "source": [
    "crud.create_survey_table()"
   ]
  },
  {
   "cell_type": "code",
   "execution_count": 358,
   "id": "1db9c589",
   "metadata": {},
   "outputs": [],
   "source": [
    "crud.create_user_table()"
   ]
  },
  {
   "cell_type": "code",
   "execution_count": 419,
   "id": "d101e627",
   "metadata": {},
   "outputs": [],
   "source": [
    "crud.create_response_table()"
   ]
  },
  {
   "cell_type": "code",
   "execution_count": 22,
   "id": "8f804a60",
   "metadata": {},
   "outputs": [
    {
     "name": "stdout",
     "output_type": "stream",
     "text": [
      "      question_id  date_added    options                                                                               question\n",
      " 0              1  2023-05-06    Work on climate change and natural diseaster, work on Unemployement, Work On Poverty  which is more important\n"
     ]
    }
   ],
   "source": [
    "crud.insert_survey_data(1, datetime.datetime.now().date(),  \"which is more important\", \"Work on climate change and natural diseaster, work on Unemployement, Work On Poverty\")"
   ]
  },
  {
   "cell_type": "code",
   "execution_count": 380,
   "id": "f07b1dc5",
   "metadata": {},
   "outputs": [
    {
     "name": "stdout",
     "output_type": "stream",
     "text": [
      "      user_id    age    annual_income  city    date_added    gender    marital_status    name    qualification\n",
      " 0          1     25          1000000  ajmer   2023-03-20    male      single            ritik   bsc\n"
     ]
    }
   ],
   "source": [
    "crud.insert_user_data(1, datetime.datetime.now().date(), \"ritik\", \"male\", 25, 1000000, \"ajmer\", \"single\", \"bsc\")"
   ]
  },
  {
   "cell_type": "code",
   "execution_count": 222,
   "id": "ddfd6f84",
   "metadata": {},
   "outputs": [
    {
     "name": "stdout",
     "output_type": "stream",
     "text": [
      "      user_id    question_id  date_added    response\n",
      " 0          1              1  2023-03-20    red\n"
     ]
    }
   ],
   "source": [
    "crud.insert_response_data(0, 0, \"red\", datetime.datetime.now().date())"
   ]
  },
  {
   "cell_type": "code",
   "execution_count": 6,
   "id": "bb9e66d0",
   "metadata": {},
   "outputs": [
    {
     "name": "stdout",
     "output_type": "stream",
     "text": [
      "╒════╤═══════════════════════╤═══════╤═════════════════╤════════╤══════════════╤══════════╤══════════════════╤═════════════╤═════════════════╕\n",
      "│    │               user_id │   age │   annual_income │ city   │ date_added   │ gender   │ marital_status   │ name        │ qualification   │\n",
      "╞════╪═══════════════════════╪═══════╪═════════════════╪════════╪══════════════╪══════════╪══════════════════╪═════════════╪═════════════════╡\n",
      "│  0 │ 117792106631150884622 │    25 │          500000 │ Ajmer  │ 2023-03-25   │ Male     │ Single           │ Ritik dutta │ graduated       │\n",
      "├────┼───────────────────────┼───────┼─────────────────┼────────┼──────────────┼──────────┼──────────────────┼─────────────┼─────────────────┤\n",
      "│  1 │ 110273879074445576872 │    27 │          300000 │ jaipur │ 2023-03-20   │ Male     │ Single           │ nisam       │ graduated       │\n",
      "╘════╧═══════════════════════╧═══════╧═════════════════╧════════╧══════════════╧══════════╧══════════════════╧═════════════╧═════════════════╛\n"
     ]
    }
   ],
   "source": [
    "crud.show(\"user\")"
   ]
  },
  {
   "cell_type": "code",
   "execution_count": 23,
   "id": "f4d698ea",
   "metadata": {
    "scrolled": true
   },
   "outputs": [
    {
     "ename": "TypeError",
     "evalue": "map() must have at least two arguments.",
     "output_type": "error",
     "traceback": [
      "\u001b[0;31m---------------------------------------------------------------------------\u001b[0m",
      "\u001b[0;31mTypeError\u001b[0m                                 Traceback (most recent call last)",
      "Input \u001b[0;32mIn [23]\u001b[0m, in \u001b[0;36m<cell line: 1>\u001b[0;34m()\u001b[0m\n\u001b[0;32m----> 1\u001b[0m \u001b[38;5;28;43mmap\u001b[39;49m\u001b[43m(\u001b[49m\u001b[38;5;28;43mmax\u001b[39;49m\u001b[43m,\u001b[49m\u001b[43m \u001b[49m\u001b[43m)\u001b[49m\n",
      "\u001b[0;31mTypeError\u001b[0m: map() must have at least two arguments."
     ]
    }
   ],
   "source": [
    "map(max, )"
   ]
  },
  {
   "cell_type": "code",
   "execution_count": 24,
   "id": "9cfb0031",
   "metadata": {},
   "outputs": [
    {
     "data": {
      "text/plain": [
       "1"
      ]
     },
     "execution_count": 24,
     "metadata": {},
     "output_type": "execute_result"
    }
   ],
   "source": [
    "max(list(map(max, crud.last(\"survey\").values)))"
   ]
  },
  {
   "cell_type": "code",
   "execution_count": 234,
   "id": "f1785080",
   "metadata": {},
   "outputs": [],
   "source": [
    "db = crud.get_db(\"survey\")"
   ]
  },
  {
   "cell_type": "code",
   "execution_count": 231,
   "id": "9bcc3168",
   "metadata": {},
   "outputs": [],
   "source": [
    "questions = {\n",
    "    1: {'text': 'What is your name?', 'options': ['John', 'Mary', 'Tom']},\n",
    "    2: {'text': 'What is your age?', 'options': ['18-25', '26-35']},\n",
    "    3: {'text': 'What is your favorite color?', 'options': ['Red', 'Green', 'Blue']}\n",
    "}"
   ]
  },
  {
   "cell_type": "code",
   "execution_count": 270,
   "id": "5b6fb0f9",
   "metadata": {},
   "outputs": [],
   "source": [
    "questions2 = {\n",
    "    1: {'text': 'What is your name?', 'options': ['John', 'Mary', 'Tom']},\n",
    "    2: {'text': 'What is your age?', 'options': ['18-25', '26-35']},\n",
    "    3: {'text': 'What is your favorite color?', 'options': ['Red', 'Green', 'Blue']}\n",
    "}"
   ]
  },
  {
   "cell_type": "code",
   "execution_count": 297,
   "id": "017accb6",
   "metadata": {},
   "outputs": [
    {
     "data": {
      "text/plain": [
       "{1: {'text': 'What is your name?', 'options': ['John', 'Mary', 'Tom']},\n",
       " 2: {'text': 'What is your age?', 'options': ['18-25', '26-35']},\n",
       " 3: {'text': 'What is your favorite color?',\n",
       "  'options': ['Red', 'Green', 'Blue']}}"
      ]
     },
     "execution_count": 297,
     "metadata": {},
     "output_type": "execute_result"
    }
   ],
   "source": [
    "questions"
   ]
  },
  {
   "cell_type": "code",
   "execution_count": 293,
   "id": "d45541f2",
   "metadata": {},
   "outputs": [
    {
     "name": "stdout",
     "output_type": "stream",
     "text": [
      "question_id                               1\n",
      "date_added                       2023-03-20\n",
      "options               bus, car, bike, other\n",
      "question       what your mode of transpoart\n",
      "Name: 0, dtype: object\n"
     ]
    },
    {
     "ename": "KeyError",
     "evalue": "0",
     "output_type": "error",
     "traceback": [
      "\u001b[0;31m---------------------------------------------------------------------------\u001b[0m",
      "\u001b[0;31mKeyError\u001b[0m                                  Traceback (most recent call last)",
      "Input \u001b[0;32mIn [293]\u001b[0m, in \u001b[0;36m<cell line: 1>\u001b[0;34m()\u001b[0m\n\u001b[1;32m      2\u001b[0m     \u001b[38;5;28mprint\u001b[39m(db\u001b[38;5;241m.\u001b[39miloc[i\u001b[38;5;241m-\u001b[39m\u001b[38;5;241m1\u001b[39m])\n\u001b[1;32m      3\u001b[0m \u001b[38;5;66;03m#     questions2 = dict()\u001b[39;00m\n\u001b[1;32m      4\u001b[0m \u001b[38;5;66;03m#     questions2[i] = dict()\u001b[39;00m\n\u001b[0;32m----> 5\u001b[0m     \u001b[43mquestions2\u001b[49m\u001b[43m[\u001b[49m\u001b[43mi\u001b[49m\u001b[38;5;241;43m-\u001b[39;49m\u001b[38;5;241;43m1\u001b[39;49m\u001b[43m]\u001b[49m[\u001b[38;5;124m'\u001b[39m\u001b[38;5;124mquestion\u001b[39m\u001b[38;5;124m'\u001b[39m] \u001b[38;5;241m=\u001b[39m \u001b[38;5;124m\"\u001b[39m\u001b[38;5;124mabc\u001b[39m\u001b[38;5;124m\"\u001b[39m\n\u001b[1;32m      6\u001b[0m     questions2[i][\u001b[38;5;124m'\u001b[39m\u001b[38;5;124mopttions\u001b[39m\u001b[38;5;124m'\u001b[39m] \u001b[38;5;241m=\u001b[39m \u001b[38;5;124m\"\u001b[39m\u001b[38;5;124mopt\u001b[39m\u001b[38;5;124m\"\u001b[39m\n",
      "\u001b[0;31mKeyError\u001b[0m: 0"
     ]
    }
   ],
   "source": [
    "for i in db.question_id:\n",
    "    print(db.iloc[i-1])\n",
    "#     questions2 = dict()\n",
    "#     questions2[i] = dict()\n",
    "    questions2[i]['question'] = \"abc\"\n",
    "    questions2[i]['opttions'] = \"opt\"\n"
   ]
  },
  {
   "cell_type": "code",
   "execution_count": 291,
   "id": "f62d43aa",
   "metadata": {},
   "outputs": [
    {
     "data": {
      "text/plain": [
       "{3: {'text': 'mode of transpoart', 'options': ['John', 'Mary', 'Tom']}}"
      ]
     },
     "execution_count": 291,
     "metadata": {},
     "output_type": "execute_result"
    }
   ],
   "source": [
    "question2"
   ]
  },
  {
   "cell_type": "code",
   "execution_count": 331,
   "id": "99698838",
   "metadata": {},
   "outputs": [
    {
     "data": {
      "text/plain": [
       "{1: {'text': 'what your mode of transpoart', 'options': 'Wick'},\n",
       " 2: {'text': 'job', 'options': 'Wick'},\n",
       " 3: {'text': 'mode of transpoart', 'options': 'Wick'},\n",
       " 4: {'text': ' ', 'options': ' '},\n",
       " 5: {'text': ' ', 'options': ' '}}"
      ]
     },
     "execution_count": 331,
     "metadata": {},
     "output_type": "execute_result"
    }
   ],
   "source": [
    "dictionary_fields = {'text': ' ', 'options': ' '}\n",
    "student_id = [1, 2, 3, 4, 5]\n",
    "student_record = {}\n",
    "#To create 5 records: We will run loop for 5 times\n",
    "for i in range(0, 5):\n",
    "    student_record.update({student_id[i]: dict(dictionary_fields)})\n",
    "#Add two items to 2D dictionary\n",
    "for i in range(1, 4):\n",
    "    student_record[i]['text'] = db.iloc[i-1].question\n",
    "    student_record[i]['options'] = \"Wick\"\n",
    "\n",
    "# for i in range(1, 3):\n",
    "#     print(student_record[i])\n",
    "    \n",
    "student_record"
   ]
  },
  {
   "cell_type": "code",
   "execution_count": 313,
   "id": "785f6f63",
   "metadata": {},
   "outputs": [
    {
     "data": {
      "text/plain": [
       "3"
      ]
     },
     "execution_count": 313,
     "metadata": {},
     "output_type": "execute_result"
    }
   ],
   "source": [
    "len(db)"
   ]
  },
  {
   "cell_type": "code",
   "execution_count": 338,
   "id": "d2641ba5",
   "metadata": {},
   "outputs": [
    {
     "data": {
      "text/plain": [
       "{1: {'text': 'what your mode of transpoart',\n",
       "  'options': 'bus, car, bike, other'},\n",
       " 2: {'text': 'mode of transpoart', 'options': 'car,bus, train, other'}}"
      ]
     },
     "execution_count": 338,
     "metadata": {},
     "output_type": "execute_result"
    }
   ],
   "source": [
    "db = db = crud.get_db(\"survey\")\n",
    "question_id = []\n",
    "for i in range(len(db)):\n",
    "    question_id.append(i+1)\n",
    "question_id\n",
    "\n",
    "student_record = {}\n",
    "#To create 5 records: We will run loop for 5 times\n",
    "for i in range(0, len(db)):\n",
    "    student_record.update({student_id[i]: dict(dictionary_fields)})\n",
    "#Add two items to 2D dictionary\n",
    "for i in range(1, len(db)+1):\n",
    "    student_record[i]['text'] = db.iloc[i-1].question\n",
    "    student_record[i]['options'] = db.iloc[i-1].options\n",
    "\n",
    "# for i in range(1, 3):\n",
    "#     print(student_record[i])\n",
    "    \n",
    "student_record"
   ]
  },
  {
   "cell_type": "code",
   "execution_count": 344,
   "id": "51e5bc68",
   "metadata": {},
   "outputs": [
    {
     "data": {
      "text/plain": [
       "{1: {'text': 'what your mode of transpoart',\n",
       "  'options': ['bus, car, bike, other']},\n",
       " 2: {'text': 'mode of transpoart', 'options': ['car,bus, train, other']}}"
      ]
     },
     "execution_count": 344,
     "metadata": {},
     "output_type": "execute_result"
    }
   ],
   "source": [
    "dictionary_fields = {'text': ' ', 'options': ' '}\n",
    "\n",
    "db = db = crud.get_db(\"survey\")\n",
    "question_id = []\n",
    "for i in range(len(db)):\n",
    "    question_id.append(i+1)\n",
    "question_id\n",
    "\n",
    "student_record = {}\n",
    "#To create 5 records: We will run loop for 5 times\n",
    "for i in range(0, len(db)):\n",
    "    student_record.update({question_id[i]: dict(dictionary_fields)})\n",
    "#Add two items to 2D dictionary\n",
    "for i in range(1, len(db)+1):\n",
    "    student_record[i]['text'] = db.iloc[i-1].question\n",
    "    student_record[i]['options'] = [db.iloc[i-1].options]\n",
    "\n",
    "# for i in range(1, 3):\n",
    "#     print(student_record[i])\n",
    "\n",
    "student_record"
   ]
  },
  {
   "cell_type": "code",
   "execution_count": 345,
   "id": "f04ce557",
   "metadata": {},
   "outputs": [
    {
     "data": {
      "text/plain": [
       "{1: {'text': 'What is your name?', 'options': ['John', 'Mary', 'Tom']},\n",
       " 2: {'text': 'What is your age?', 'options': ['18-25', '26-35']},\n",
       " 3: {'text': 'What is your favorite color?',\n",
       "  'options': ['Red', 'Green', 'Blue']}}"
      ]
     },
     "execution_count": 345,
     "metadata": {},
     "output_type": "execute_result"
    }
   ],
   "source": [
    "questions"
   ]
  },
  {
   "cell_type": "code",
   "execution_count": 399,
   "id": "15326c7e",
   "metadata": {},
   "outputs": [],
   "source": [
    "options = db.iloc[0].options.split(\", \")\n"
   ]
  },
  {
   "cell_type": "code",
   "execution_count": 16,
   "id": "9d02f9e1",
   "metadata": {},
   "outputs": [
    {
     "name": "stdout",
     "output_type": "stream",
     "text": [
      "Table survey deleted successfully\n"
     ]
    }
   ],
   "source": [
    "crud.delete_table(\"survey\")"
   ]
  },
  {
   "cell_type": "code",
   "execution_count": 443,
   "id": "edbef6f9",
   "metadata": {},
   "outputs": [],
   "source": [
    "crud.create_user_table()"
   ]
  },
  {
   "cell_type": "code",
   "execution_count": 13,
   "id": "f71e18dc",
   "metadata": {
    "scrolled": true
   },
   "outputs": [
    {
     "name": "stdout",
     "output_type": "stream",
     "text": [
      "╒════╤═══════════════════════╤═══════════════╤══════════════╤═════════════════════════════════════════════╕\n",
      "│    │               user_id │   question_id │ date_added   │ response                                    │\n",
      "╞════╪═══════════════════════╪═══════════════╪══════════════╪═════════════════════════════════════════════╡\n",
      "│  0 │             115211234 │             0 │ 2023-05-06   │ they are doing great                        │\n",
      "├────┼───────────────────────┼───────────────┼──────────────┼─────────────────────────────────────────────┤\n",
      "│  1 │             115211234 │             1 │ 2023-05-06   │ Work On Poverty                             │\n",
      "├────┼───────────────────────┼───────────────┼──────────────┼─────────────────────────────────────────────┤\n",
      "│  2 │             115211234 │             3 │ 2023-05-06   │ Pradhan Mantri Suraksha Bima Yojana (PMSBY) │\n",
      "├────┼───────────────────────┼───────────────┼──────────────┼─────────────────────────────────────────────┤\n",
      "│  3 │             115211234 │             5 │ 2023-05-06   │ congress                                    │\n",
      "├────┼───────────────────────┼───────────────┼──────────────┼─────────────────────────────────────────────┤\n",
      "│  4 │             115211234 │             7 │ 2023-05-06   │ Yes frequently                              │\n",
      "├────┼───────────────────────┼───────────────┼──────────────┼─────────────────────────────────────────────┤\n",
      "│  5 │ 117792106631150884622 │             0 │ 2023-03-21   │ they are doing great                        │\n",
      "├────┼───────────────────────┼───────────────┼──────────────┼─────────────────────────────────────────────┤\n",
      "│  6 │ 117792106631150884622 │             1 │ 2023-03-21   │ work on Unemployement                       │\n",
      "├────┼───────────────────────┼───────────────┼──────────────┼─────────────────────────────────────────────┤\n",
      "│  7 │ 117792106631150884622 │             3 │ 2023-03-21   │ very well government is doing good          │\n",
      "├────┼───────────────────────┼───────────────┼──────────────┼─────────────────────────────────────────────┤\n",
      "│  8 │ 111406285331660533989 │             0 │ 2023-03-20   │ they are doing great                        │\n",
      "├────┼───────────────────────┼───────────────┼──────────────┼─────────────────────────────────────────────┤\n",
      "│  9 │ 111406285331660533989 │             3 │ 2023-03-20   │ very well government is doing good          │\n",
      "├────┼───────────────────────┼───────────────┼──────────────┼─────────────────────────────────────────────┤\n",
      "│ 10 │ 111406285331660533989 │             5 │ 2023-03-20   │ Yes frequently                              │\n",
      "├────┼───────────────────────┼───────────────┼──────────────┼─────────────────────────────────────────────┤\n",
      "│ 11 │ 110273879074445576872 │             0 │ 2023-03-20   │ they are doing great                        │\n",
      "├────┼───────────────────────┼───────────────┼──────────────┼─────────────────────────────────────────────┤\n",
      "│ 12 │ 110273879074445576872 │             1 │ 2023-03-20   │ work on Unemployement                       │\n",
      "├────┼───────────────────────┼───────────────┼──────────────┼─────────────────────────────────────────────┤\n",
      "│ 13 │ 110273879074445576872 │             2 │ 2023-03-20   │ Pradhan Mantri Mudra Yojana                 │\n",
      "├────┼───────────────────────┼───────────────┼──────────────┼─────────────────────────────────────────────┤\n",
      "│ 14 │ 110273879074445576872 │             3 │ 2023-03-20   │ not good government needs to improve        │\n",
      "├────┼───────────────────────┼───────────────┼──────────────┼─────────────────────────────────────────────┤\n",
      "│ 15 │ 110273879074445576872 │             5 │ 2023-03-20   │ Yes frequently                              │\n",
      "╘════╧═══════════════════════╧═══════════════╧══════════════╧═════════════════════════════════════════════╛\n"
     ]
    }
   ],
   "source": [
    "crud.show(\"response\")"
   ]
  },
  {
   "cell_type": "code",
   "execution_count": 20,
   "id": "558b0973",
   "metadata": {},
   "outputs": [
    {
     "name": "stdout",
     "output_type": "stream",
     "text": [
      "\n"
     ]
    }
   ],
   "source": [
    "crud.show(\"survey\")"
   ]
  },
  {
   "cell_type": "code",
   "execution_count": 405,
   "id": "02e05b3e",
   "metadata": {},
   "outputs": [],
   "source": [
    "resp = {1: 'they are doing great', 2: None, 3: None, 4: 'very well government is doing good', 5: ' no need to invest on roads and infrastructures government should use the money in other things', 6: None}"
   ]
  },
  {
   "cell_type": "code",
   "execution_count": 448,
   "id": "37305d30",
   "metadata": {},
   "outputs": [
    {
     "data": {
      "text/plain": [
       "{1: 'they are doing great',\n",
       " 2: None,\n",
       " 3: None,\n",
       " 4: 'very well government is doing good',\n",
       " 5: ' no need to invest on roads and infrastructures government should use the money in other things',\n",
       " 6: None}"
      ]
     },
     "execution_count": 448,
     "metadata": {},
     "output_type": "execute_result"
    }
   ],
   "source": [
    "resp"
   ]
  },
  {
   "cell_type": "code",
   "execution_count": null,
   "id": "28fea4ab",
   "metadata": {},
   "outputs": [],
   "source": []
  }
 ],
 "metadata": {
  "kernelspec": {
   "display_name": "Python 3 (ipykernel)",
   "language": "python",
   "name": "python3"
  },
  "language_info": {
   "codemirror_mode": {
    "name": "ipython",
    "version": 3
   },
   "file_extension": ".py",
   "mimetype": "text/x-python",
   "name": "python",
   "nbconvert_exporter": "python",
   "pygments_lexer": "ipython3",
   "version": "3.10.6"
  }
 },
 "nbformat": 4,
 "nbformat_minor": 5
}
