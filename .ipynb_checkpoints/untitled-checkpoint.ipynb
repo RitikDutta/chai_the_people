{
 "cells": [
  {
   "cell_type": "code",
   "execution_count": 11,
   "id": "7ff67ceb",
   "metadata": {},
   "outputs": [],
   "source": [
    "import datetime\n",
    "from cassandra.cluster import Cluster\n",
    "from cassandra.auth import PlainTextAuthProvider\n",
    "import pandas as pd\n",
    "from tabulate import tabulate\n",
    "import os\n",
    "import time\n",
    "import importlib\n"
   ]
  },
  {
   "cell_type": "code",
   "execution_count": 5,
   "id": "e4256758",
   "metadata": {},
   "outputs": [],
   "source": [
    "keyspace = \"test_key\"\n",
    "cloud_config= {'secure_connect_bundle': 'secure-connect-test.zip'}\n",
    "auth_provider = PlainTextAuthProvider('biTEHxuyRqFgCcFpnEMOMvkN', 'PyqybfDQpPOaLp44hlWbb1Yb7bZ2Mn5Mt-_DGMOs.qBj.JY.Z,FAnB.9ncCD+F2EsSJ7W6XD,l,3S9gZW7bgWSMQDHKvTI7Iams2.hRRz6W_biRSrttvGgs1WhAl-in9')\n",
    "cluster = Cluster(cloud=cloud_config, auth_provider=auth_provider)\n",
    "session = cluster.connect(keyspace)\n"
   ]
  },
  {
   "cell_type": "code",
   "execution_count": 71,
   "id": "e3fac265",
   "metadata": {},
   "outputs": [],
   "source": [
    "def create_daily_activity_table():\n",
    "        create_table_query = \"\"\"\n",
    "        CREATE TABLE IF NOT EXISTS survey (\n",
    "            q_no int,\n",
    "            date_added date,\n",
    "            question text,\n",
    "            options text,\n",
    "            PRIMARY KEY (q_no)\n",
    "        );\n",
    "        \"\"\"\n",
    "        session.execute(create_table_query)\n",
    "create_daily_activity_table()"
   ]
  },
  {
   "cell_type": "code",
   "execution_count": 72,
   "id": "f4a71861",
   "metadata": {},
   "outputs": [],
   "source": [
    "def get_db(table):\n",
    "        query = \"SELECT * FROM {}.{}\".format(keyspace, table)\n",
    "        data = session.execute(query)\n",
    "        df = pd.DataFrame([d for d in data])\n",
    "        return df"
   ]
  },
  {
   "cell_type": "code",
   "execution_count": 73,
   "id": "22b51b47",
   "metadata": {},
   "outputs": [],
   "source": [
    "def show(table_name):\n",
    "        query = \"SELECT * FROM test_key.{};\".format(table_name)\n",
    "        df = pd.DataFrame(list(session.execute(query)))\n",
    "        print(tabulate(df, headers='keys', tablefmt='fancy_grid'))"
   ]
  },
  {
   "cell_type": "code",
   "execution_count": 91,
   "id": "020ee5e6",
   "metadata": {},
   "outputs": [],
   "source": [
    "def insert_data():\n",
    "    insert_query = \"\"\"\n",
    "    INSERT INTO survey (\n",
    "        q_no,\n",
    "        date_added,\n",
    "        question,\n",
    "        options\n",
    "    ) VALUES ({}, '{}', '{}', '{}')\"\"\".format(1, datetime.datetime.now().date(), \"what is your favourite color\", \"red, blue, gree, grey\")\n",
    "    session.execute(insert_query)\n",
    "    show(\"survey\")"
   ]
  },
  {
   "cell_type": "code",
   "execution_count": 92,
   "id": "74ffafdf",
   "metadata": {},
   "outputs": [
    {
     "name": "stdout",
     "output_type": "stream",
     "text": [
      "╒════╤════════╤══════════════╤═══════════════════════╤══════════════════════════════╕\n",
      "│    │   q_no │ date_added   │ options               │ question                     │\n",
      "╞════╪════════╪══════════════╪═══════════════════════╪══════════════════════════════╡\n",
      "│  0 │      1 │ 2023-03-18   │ red, blue, gree, grey │ what is your favourite color │\n",
      "╘════╧════════╧══════════════╧═══════════════════════╧══════════════════════════════╛\n"
     ]
    }
   ],
   "source": [
    "insert_data()"
   ]
  },
  {
   "cell_type": "code",
   "execution_count": 59,
   "id": "c0c18ce8",
   "metadata": {},
   "outputs": [
    {
     "name": "stdout",
     "output_type": "stream",
     "text": [
      "Error deleting table:  name 'session' is not defined\n"
     ]
    }
   ],
   "source": [
    "def delete_table(table_name):\n",
    "        delete_table_query = \"DROP TABLE \" + table_name + \";\"\n",
    "        try:\n",
    "            session.execute(delete_table_query)\n",
    "            print(\"Table \" + table_name + \" deleted successfully\")\n",
    "        except Exception as e:\n",
    "            print(\"Error deleting table: \", e)\n",
    "            \n",
    "delete_table(\"user\")"
   ]
  },
  {
   "cell_type": "code",
   "execution_count": 204,
   "id": "b512a594",
   "metadata": {},
   "outputs": [
    {
     "name": "stdout",
     "output_type": "stream",
     "text": [
      "Table response deleted successfully\n"
     ]
    }
   ],
   "source": [
    "crud.delete_table(\"response\")"
   ]
  },
  {
   "cell_type": "code",
   "execution_count": 86,
   "id": "ddfceb78",
   "metadata": {},
   "outputs": [
    {
     "name": "stdout",
     "output_type": "stream",
     "text": [
      "╒════╤════════╤══════════════╤═══════════╤════════════╕\n",
      "│    │   q_no │ date_added   │ options   │ question   │\n",
      "╞════╪════════╪══════════════╪═══════════╪════════════╡\n",
      "│  0 │      1 │ 2023-03-18   │ options   │ question   │\n",
      "╘════╧════════╧══════════════╧═══════════╧════════════╛\n"
     ]
    }
   ],
   "source": [
    "show(\"survey\")"
   ]
  },
  {
   "cell_type": "code",
   "execution_count": 104,
   "id": "bdc89a5d",
   "metadata": {},
   "outputs": [
    {
     "data": {
      "text/plain": [
       "<module 'database_operations' from '/home/codered/mystuff/hackthon/main_project/database_operations.py'>"
      ]
     },
     "execution_count": 104,
     "metadata": {},
     "output_type": "execute_result"
    }
   ],
   "source": [
    "from importlib import reload\n",
    "import database_operations\n",
    "reload(database_operations)"
   ]
  },
  {
   "cell_type": "code",
   "execution_count": 105,
   "id": "c41c443e",
   "metadata": {},
   "outputs": [],
   "source": [
    "crud = database_operations.CassandraCRUD(\"test_key\")"
   ]
  },
  {
   "cell_type": "code",
   "execution_count": 106,
   "id": "a12ecbfd",
   "metadata": {},
   "outputs": [],
   "source": [
    "crud.create_survey_table()"
   ]
  },
  {
   "cell_type": "code",
   "execution_count": 107,
   "id": "1db9c589",
   "metadata": {},
   "outputs": [],
   "source": [
    "crud.create_user_table()"
   ]
  },
  {
   "cell_type": "code",
   "execution_count": 108,
   "id": "d101e627",
   "metadata": {},
   "outputs": [],
   "source": [
    "crud.create_response_table()"
   ]
  },
  {
   "cell_type": "code",
   "execution_count": 109,
   "id": "8f804a60",
   "metadata": {},
   "outputs": [
    {
     "name": "stdout",
     "output_type": "stream",
     "text": [
      "      question_id  date_added    options                 question\n",
      " 0              1  2023-03-20    red, blue, green, grey  what is your fav color\n"
     ]
    }
   ],
   "source": [
    "crud.insert_survey_data(2, datetime.datetime.now().date(),  \"what your mode of transpoart\", \"red, blue, green, grey\")"
   ]
  },
  {
   "cell_type": "code",
   "execution_count": 110,
   "id": "f07b1dc5",
   "metadata": {},
   "outputs": [
    {
     "name": "stdout",
     "output_type": "stream",
     "text": [
      "      user_id    age    annual_income  city    date_added    gender    marital_status    name    qualification\n",
      " 0          1     25          1000000  ajmer   2023-03-20    male      single            ritik   bsc\n"
     ]
    }
   ],
   "source": [
    "crud.insert_user_data(1, datetime.datetime.now().date(), \"ritik\", \"male\", 25, 1000000, \"ajmer\", \"single\", \"bsc\")"
   ]
  },
  {
   "cell_type": "code",
   "execution_count": 111,
   "id": "ddfd6f84",
   "metadata": {},
   "outputs": [
    {
     "name": "stdout",
     "output_type": "stream",
     "text": [
      "      user_id    question_id  date_added    response\n",
      " 0          1              1  2023-03-20    red\n"
     ]
    }
   ],
   "source": [
    "crud.insert_response_data(1, 1, \"red\", datetime.datetime.now().date())"
   ]
  },
  {
   "cell_type": "code",
   "execution_count": 112,
   "id": "bb9e66d0",
   "metadata": {},
   "outputs": [
    {
     "name": "stdout",
     "output_type": "stream",
     "text": [
      "╒════╤═══════════════╤══════════════╤════════════════════════╤════════════════════════╕\n",
      "│    │   question_id │ date_added   │ options                │ question               │\n",
      "╞════╪═══════════════╪══════════════╪════════════════════════╪════════════════════════╡\n",
      "│  0 │             1 │ 2023-03-20   │ red, blue, green, grey │ what is your fav color │\n",
      "╘════╧═══════════════╧══════════════╧════════════════════════╧════════════════════════╛\n"
     ]
    }
   ],
   "source": [
    "crud.show(\"survey\")"
   ]
  },
  {
   "cell_type": "code",
   "execution_count": 137,
   "id": "daf44866",
   "metadata": {},
   "outputs": [
    {
     "data": {
      "text/plain": [
       "1"
      ]
     },
     "execution_count": 137,
     "metadata": {},
     "output_type": "execute_result"
    }
   ],
   "source": [
    "crud.last(\"survey\").values[[0]][0][0]"
   ]
  },
  {
   "cell_type": "code",
   "execution_count": null,
   "id": "58cd82e2",
   "metadata": {},
   "outputs": [],
   "source": []
  }
 ],
 "metadata": {
  "kernelspec": {
   "display_name": "Python 3 (ipykernel)",
   "language": "python",
   "name": "python3"
  },
  "language_info": {
   "codemirror_mode": {
    "name": "ipython",
    "version": 3
   },
   "file_extension": ".py",
   "mimetype": "text/x-python",
   "name": "python",
   "nbconvert_exporter": "python",
   "pygments_lexer": "ipython3",
   "version": "3.10.6"
  }
 },
 "nbformat": 4,
 "nbformat_minor": 5
}
